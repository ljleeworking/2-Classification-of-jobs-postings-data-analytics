{
 "cells": [
  {
   "cell_type": "markdown",
   "metadata": {},
   "source": [
    "# Classification of Job Postings (Data Analytics)\n",
    "\n",
    "## Business Case Overview\n",
    "\n",
    "You're working as a data scientist for a contracting firm that's rapidly expanding. Now that they have their most valuable employee (you!), they need to leverage data to win more contracts. Your firm offers technology and scientific solutions and wants to be competitive in the hiring market. Your principal has two main objectives:\n",
    "\n",
    "   1. Determine the industry factors that are most important in predicting the salary amounts for these data.\n",
    "   2. Determine the factors that distinguish job categories and titles from each other. \n",
    "\n",
    "\n",
    "---\n",
    "\n",
    "\n",
    "### QUESTION 1: Factors that impact salary\n",
    "\n",
    "To predict salary you can frame this as a classification problem, in which case you will create labels from these salaries (high vs. low salary, for example) according to thresholds (such as median salary).\n",
    "\n",
    "\n",
    "### QUESTION 2: Factors that distinguish job category\n",
    "\n",
    "There are a variety of interesting ways you can frame the target variable, for example:\n",
    "- What components of a job posting distinguish data scientists from other data jobs?\n",
    "- What features are important for distinguishing junior vs. senior positions?\n",
    "- Do the requirements for titles vary significantly with industry ?\n",
    "\n",
    "###  Overview:\n",
    "\n",
    "Part 1. Scrape and prepare your own data.\n",
    "\n",
    "Part 2. Data Cleaning and Exploratory data analysis (EDA)\n",
    "\n",
    "Part 3. Modelling and evaluation\n",
    "\n",
    "Part 4. Executive summary"
   ]
  },
  {
   "cell_type": "markdown",
   "metadata": {},
   "source": [
    "# Part 4 -  Executive summary"
   ]
  },
  {
   "cell_type": "markdown",
   "metadata": {},
   "source": [
    "The jobs data was collect from mycareersfuture.sg and this report mainly focuses on answering two questions. The first question is to find out which features have the greatest importance when determining a low vs high paying job. The second question is to identify features in the data that can distinguish the different job titles and job categories.\n",
    "\n",
    "Question 1) \n",
    "\n",
    "After the data was collected and cleaned. For the first question, the average salary was split into two groups. The high pay group is consist of the jobs above the medium of the average salary and the low pay group is those jobs that are below the medium.  For the features, there are 8 columns (company, job_title, location, employment_type, seniority,  job_categories,  job_description and requirements). These columns are processed by the extracting keywords and creating new features which will help with the analysis. \n",
    "\n",
    "- I used 3 models, namely, BernoulliNB, Logistic Regression and Decision tree Classifier, to classify the result into high and low pay groups. The scores of the models are quite decent and they are 0.7 to 0.8. The more noticeable overall features hold the greatest significance to high pay:\n",
    "\n",
    "Company: google asia pacific pte. ltd , oversea-chinese banking corporation limited, unilever asia private limited, grabtaxi holdings pte. ltd\n",
    " \n",
    "Job title: director, manager, senior associate, head, consultant\n",
    "\n",
    "Location: marina, shenton, raffles (they are areas in central business district)\n",
    "\n",
    "job_categories: information technology, financial\n",
    "\n",
    "- Overall, working in MNCs,  senior job roles, working in central business district and in the field of information technology and financial pay betters.\n",
    "\n",
    "- Then looking at the keywords and skills in job_description and requirements. \n",
    "\n",
    "Keywords: business, solutions, technology, ability, understanding, 10 years, travel\n",
    "\n",
    "Skills: ms office, management, data,\n",
    "\n",
    "- Limitation of the analysis is that the jobs data are spread over many job titles, categories and roles. Therefore, the results maybe skew towards those features that are more general and appears more frequently such as information technology and ms office.\n",
    "\n",
    "Question 2) \n",
    "\n",
    "For the second question on job categories. Factors that distinguish the categories are shown below.\n",
    "\n",
    "- Data scientist vs others: \n",
    "machine learning, python, statistics, analytics, algorithms, mining, phd, techniques, code\n",
    "\n",
    "- Senior vs junior roles:\n",
    "business,  strong, years, operational, scientist, advanced\n",
    "\n",
    "- Then we look at the features related to the different industry.  The four largest categories are chosen and they are information technology, engineering, accounting / auditing / taxation and lastly banking and finance.\n",
    "\n",
    "The noticeable features that can help to distinguish each of the four industries are shown below.\n",
    "\n",
    "information technology: business, data, computer science, technical, software, server, provide support\n",
    "\n",
    "engineering: equipment, electrical, mechanical, drawings, safety, manufacturing\n",
    "\n",
    "accounting / auditing / taxation: financial, reports, ad hoc, data entry, accounts assistant, invoices\n",
    "\n",
    "banking and finance: investment, markets, trading, global, collyer (collyer quay is in the business district, so probably lots of banks are found there) \n"
   ]
  },
  {
   "cell_type": "code",
   "execution_count": null,
   "metadata": {},
   "outputs": [],
   "source": []
  }
 ],
 "metadata": {
  "kernelspec": {
   "display_name": "Python 3",
   "language": "python",
   "name": "python3"
  },
  "language_info": {
   "codemirror_mode": {
    "name": "ipython",
    "version": 3
   },
   "file_extension": ".py",
   "mimetype": "text/x-python",
   "name": "python",
   "nbconvert_exporter": "python",
   "pygments_lexer": "ipython3",
   "version": "3.6.8"
  }
 },
 "nbformat": 4,
 "nbformat_minor": 2
}
